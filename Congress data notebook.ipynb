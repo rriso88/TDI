{
    "nbformat_minor": 1, 
    "cells": [
        {
            "source": "# This notebook explores data on congress expenditures", 
            "cell_type": "markdown", 
            "metadata": {}
        }, 
        {
            "source": "### A. Loop through all csv files and append into one large dataframe", 
            "cell_type": "markdown", 
            "metadata": {}
        }, 
        {
            "execution_count": null, 
            "cell_type": "code", 
            "metadata": {}, 
            "outputs": [], 
            "source": "import csv\nimport pandas as pd\ndf=pd.DataFrame()\npath = '/resources/TDI/'\nfor i in range(2009,2019):\n    for j in range(1,5):\n        if i == 2015 & j == 2:\n            filename = str(i)+'Q'+str(j)+'-house-disburse-detail-updated.csv'\n        else:\n            filename = str(i)+'Q'+str(j)+'-house-disburse-detail.csv'           \n        try:\n            dfi = pd.read_csv(path+filename, low_memory=False)\n            dfi['file']=filename\n            #cols = ['OFFICE', 'QUARTER', 'CATEGORY', 'DATE', 'PAYEE','START DATE', 'END DATE', 'PURPOSE', 'AMOUNT', 'YEAR']\n            #dfi = dfi[cols]\n            frames = [df, dfi]\n            df = pd.concat(frames)\n            print(filename)\n        except:    \n            print(i,'Q',j,' = error')\ndf1 = pd.read_csv('/resources/TDI/2017Q2-house-disburse-detail.csv',low_memory=False,encoding=\"ISO-8859-1\")\ndf1['file']='2017Q2-house-disburse-detail.csv'\ndf2 = pd.read_csv('/resources/TDI/2018Q1-house-disburse-detail.csv',low_memory=False,encoding=\"ISO-8859-1\")\ndf2['file']='2018Q1-house-disburse-detail.csv'\ndf3 = pd.read_csv('/resources/TDI/2015Q2-house-disburse-detail-updated.csv')\ndf3['file']='2015Q2-house-disburse-detail-updated.csv'\nframes = [df,df1,df2,df3]\ndf = pd.concat(frames)\ndf.to_csv('/resources/TDI/CongressData.csv', sep=',')"
        }, 
        {
            "source": "### B. Import supporting packages", 
            "cell_type": "markdown", 
            "metadata": {}
        }, 
        {
            "execution_count": 226, 
            "cell_type": "code", 
            "metadata": {}, 
            "outputs": [], 
            "source": "import csv\nimport pandas as pd\nimport numpy as np\nimport re\nimport io\nimport os \nimport datetime as DT\nimport statistics\nimport datetime\nimport sys\nimport types\nimport pip\nfrom datetime import date\nimport time\nimport re\nfrom time import gmtime, strftime"
        }, 
        {
            "source": "### C. Import csv file for analysis", 
            "cell_type": "markdown", 
            "metadata": {}
        }, 
        {
            "execution_count": 227, 
            "cell_type": "code", 
            "metadata": {}, 
            "outputs": [
                {
                    "output_type": "stream", 
                    "name": "stderr", 
                    "text": "/opt/ibm/conda/miniconda3/lib/python3.5/site-packages/IPython/core/interactiveshell.py:2698: DtypeWarning: Columns (2,4,8,9,10,11,12,13,15,16,17,19) have mixed types. Specify dtype option on import or set low_memory=False.\n  interactivity=interactivity, compiler=compiler, result=result)\n"
                }, 
                {
                    "execution_count": 227, 
                    "metadata": {}, 
                    "data": {
                        "text/html": "<div>\n<style scoped>\n    .dataframe tbody tr th:only-of-type {\n        vertical-align: middle;\n    }\n\n    .dataframe tbody tr th {\n        vertical-align: top;\n    }\n\n    .dataframe thead th {\n        text-align: right;\n    }\n</style>\n<table border=\"1\" class=\"dataframe\">\n  <thead>\n    <tr style=\"text-align: right;\">\n      <th></th>\n      <th>Unnamed: 0</th>\n      <th>AMOUNT</th>\n      <th>BIOGUIDE_ID</th>\n      <th>CATEGORY</th>\n      <th>DATE</th>\n      <th>END DATE</th>\n      <th>OFFICE</th>\n      <th>PAYEE</th>\n      <th>PROGRAM</th>\n      <th>PURPOSE</th>\n      <th>...</th>\n      <th>START DATE</th>\n      <th>TRANSCODE</th>\n      <th>TRANSCODELONG</th>\n      <th>YEAR</th>\n      <th>file</th>\n      <th>START MONTH</th>\n      <th>START DAY</th>\n      <th>START YEAR</th>\n      <th>START_DATE</th>\n      <th>START_DATETIME</th>\n    </tr>\n  </thead>\n  <tbody>\n    <tr>\n      <th>0</th>\n      <td>0</td>\n      <td>NaN</td>\n      <td>NaN</td>\n      <td>OTHER SERVICES</td>\n      <td>NaN</td>\n      <td>10/04/06</td>\n      <td>COMMUNICATIONS</td>\n      <td>07\u00c2\u00ad01   P2 OPR0900726A                    STR...</td>\n      <td>NaN</td>\n      <td>NON-TECHNOLOGY SERVICE CONTRCT</td>\n      <td>...</td>\n      <td>10/04/06</td>\n      <td>NaN</td>\n      <td>NaN</td>\n      <td>FISCAL YEAR 2009</td>\n      <td>2009Q3-house-disburse-detail.csv</td>\n      <td>10</td>\n      <td>4.0</td>\n      <td>6.0</td>\n      <td>10/04/06</td>\n      <td>2006-10-04</td>\n    </tr>\n    <tr>\n      <th>1</th>\n      <td>1</td>\n      <td>NaN</td>\n      <td>NaN</td>\n      <td>OTHER SERVICES</td>\n      <td>NaN</td>\n      <td>10/04/06</td>\n      <td>COMMUNICATIONS</td>\n      <td>07\u00c2\u00ad22   P2 OPR0900726B                       ...</td>\n      <td>NaN</td>\n      <td>NON-TECHNOLOGY SERVICE CONTRCT</td>\n      <td>...</td>\n      <td>10/04/06</td>\n      <td>NaN</td>\n      <td>NaN</td>\n      <td>FISCAL YEAR 2009</td>\n      <td>2009Q3-house-disburse-detail.csv</td>\n      <td>10</td>\n      <td>4.0</td>\n      <td>6.0</td>\n      <td>10/04/06</td>\n      <td>2006-10-04</td>\n    </tr>\n    <tr>\n      <th>2</th>\n      <td>2</td>\n      <td>NaN</td>\n      <td>NaN</td>\n      <td>OTHER SERVICES</td>\n      <td>NaN</td>\n      <td>07/18/06</td>\n      <td>COMMUNICATIONS</td>\n      <td>08\u00c2\u00ad06   P2 FSS0000575A                    THE...</td>\n      <td>NaN</td>\n      <td>NON-TECHNOLOGY SERVICE CONTRCT</td>\n      <td>...</td>\n      <td>07/18/06</td>\n      <td>NaN</td>\n      <td>NaN</td>\n      <td>FISCAL YEAR 2009</td>\n      <td>2009Q3-house-disburse-detail.csv</td>\n      <td>7</td>\n      <td>18.0</td>\n      <td>6.0</td>\n      <td>07/18/06</td>\n      <td>2006-07-18</td>\n    </tr>\n    <tr>\n      <th>3</th>\n      <td>3</td>\n      <td>888.00</td>\n      <td>NaN</td>\n      <td>OTHER SERVICES</td>\n      <td>NaN</td>\n      <td>05/29/09</td>\n      <td>COMMUNICATIONS</td>\n      <td>08\u00c2\u00ad25   P2 MFP0003163                     AVAYA</td>\n      <td>NaN</td>\n      <td>NON-TECHNOLOGY SERVICE CONTRCT</td>\n      <td>...</td>\n      <td>05/29/09</td>\n      <td>NaN</td>\n      <td>NaN</td>\n      <td>FISCAL YEAR 2009</td>\n      <td>2009Q3-house-disburse-detail.csv</td>\n      <td>5</td>\n      <td>29.0</td>\n      <td>9.0</td>\n      <td>05/29/09</td>\n      <td>2009-05-29</td>\n    </tr>\n    <tr>\n      <th>4</th>\n      <td>4</td>\n      <td>590.18</td>\n      <td>NaN</td>\n      <td>OTHER SERVICES</td>\n      <td>NaN</td>\n      <td>10/04/06</td>\n      <td>COMMUNICATIONS</td>\n      <td>09\u00c2\u00ad10   P2 OPR0900726C                    STR...</td>\n      <td>NaN</td>\n      <td>NON-TECHNOLOGY SERVICE CONTRCT</td>\n      <td>...</td>\n      <td>10/04/06</td>\n      <td>NaN</td>\n      <td>NaN</td>\n      <td>FISCAL YEAR 2009</td>\n      <td>2009Q3-house-disburse-detail.csv</td>\n      <td>10</td>\n      <td>4.0</td>\n      <td>6.0</td>\n      <td>10/04/06</td>\n      <td>2006-10-04</td>\n    </tr>\n  </tbody>\n</table>\n<p>5 rows \u00d7 24 columns</p>\n</div>", 
                        "text/plain": "   Unnamed: 0  AMOUNT BIOGUIDE_ID        CATEGORY DATE  END DATE  \\\n0           0     NaN         NaN  OTHER SERVICES  NaN  10/04/06   \n1           1     NaN         NaN  OTHER SERVICES  NaN  10/04/06   \n2           2     NaN         NaN  OTHER SERVICES  NaN  07/18/06   \n3           3  888.00         NaN  OTHER SERVICES  NaN  05/29/09   \n4           4  590.18         NaN  OTHER SERVICES  NaN  10/04/06   \n\n           OFFICE                                              PAYEE PROGRAM  \\\n0  COMMUNICATIONS  07\u00c2\u00ad01   P2 OPR0900726A                    STR...     NaN   \n1  COMMUNICATIONS  07\u00c2\u00ad22   P2 OPR0900726B                       ...     NaN   \n2  COMMUNICATIONS  08\u00c2\u00ad06   P2 FSS0000575A                    THE...     NaN   \n3  COMMUNICATIONS   08\u00c2\u00ad25   P2 MFP0003163                     AVAYA     NaN   \n4  COMMUNICATIONS  09\u00c2\u00ad10   P2 OPR0900726C                    STR...     NaN   \n\n                          PURPOSE      ...       START DATE TRANSCODE  \\\n0  NON-TECHNOLOGY SERVICE CONTRCT      ...         10/04/06       NaN   \n1  NON-TECHNOLOGY SERVICE CONTRCT      ...         10/04/06       NaN   \n2  NON-TECHNOLOGY SERVICE CONTRCT      ...         07/18/06       NaN   \n3  NON-TECHNOLOGY SERVICE CONTRCT      ...         05/29/09       NaN   \n4  NON-TECHNOLOGY SERVICE CONTRCT      ...         10/04/06       NaN   \n\n  TRANSCODELONG              YEAR                              file  \\\n0           NaN  FISCAL YEAR 2009  2009Q3-house-disburse-detail.csv   \n1           NaN  FISCAL YEAR 2009  2009Q3-house-disburse-detail.csv   \n2           NaN  FISCAL YEAR 2009  2009Q3-house-disburse-detail.csv   \n3           NaN  FISCAL YEAR 2009  2009Q3-house-disburse-detail.csv   \n4           NaN  FISCAL YEAR 2009  2009Q3-house-disburse-detail.csv   \n\n  START MONTH START DAY START YEAR START_DATE START_DATETIME  \n0          10       4.0        6.0   10/04/06     2006-10-04  \n1          10       4.0        6.0   10/04/06     2006-10-04  \n2           7      18.0        6.0   07/18/06     2006-07-18  \n3           5      29.0        9.0   05/29/09     2009-05-29  \n4          10       4.0        6.0   10/04/06     2006-10-04  \n\n[5 rows x 24 columns]"
                    }, 
                    "output_type": "execute_result"
                }
            ], 
            "source": "# The code was removed by Watson Studio for sharing."
        }, 
        {
            "source": "### D. Analysis", 
            "cell_type": "markdown", 
            "metadata": {}
        }, 
        {
            "source": "### Q1: What is the total of all the payments in the dataset?", 
            "cell_type": "markdown", 
            "metadata": {}
        }, 
        {
            "execution_count": 3, 
            "cell_type": "code", 
            "metadata": {}, 
            "outputs": [
                {
                    "execution_count": 3, 
                    "metadata": {}, 
                    "data": {
                        "text/plain": "4608689398.1000004"
                    }, 
                    "output_type": "execute_result"
                }
            ], 
            "source": "df.AMOUNT.sum()"
        }, 
        {
            "source": "### Q2 Define the 'COVERAGE PERIOD' for each payment as the difference (in days) between 'END DATE' and 'START DATE'. What is the standard deviation in 'COVERAGE PERIOD'? Only consider payments with strictly positive amounts.", 
            "cell_type": "markdown", 
            "metadata": {}
        }, 
        {
            "source": "a. Format date variables", 
            "cell_type": "markdown", 
            "metadata": {}
        }, 
        {
            "execution_count": null, 
            "cell_type": "code", 
            "metadata": {}, 
            "outputs": [], 
            "source": "def dateVars(datevar, prefix):\n    monthvar = prefix+' MONTH'\n    dayvar = prefix+' DAY'\n    yearvar = prefix+' YEAR'\n    \n    df[monthvar] = df[datevar].str.split('/').str[0]\n    df[dayvar] = df[datevar].str.split('/').str[1]\n    df[yearvar] = df[datevar].str.split('/').str[2]\n    \n    df[monthvar] = df[monthvar].str.zfill(2)\n    df[dayvar] = df[dayvar].str.zfill(2)\n    \n    for i in range(5,22):\n        yr = str(i)\n        yr = yr.zfill(2)\n        df.loc[df[yearvar] == '20'+yr, yearvar] = yr\n    \n    datevarnew = prefix+'_DATE'\n    df[datevarnew]=df[monthvar]+'/'+df[dayvar]+'/'+df[yearvar]\n    \n    datevartype = prefix+'_DATETIME'\n    df[datevartype] = pd.to_datetime(pd.Series(df[datevarnew]), format = '%m/%d/%y', errors='coerce')\n\ndateVars('END DATE', 'END')\ndateVars('START DATE', 'START')"
        }, 
        {
            "source": "b. Generate variable 'COVERAGE PERIOD' as the different between end and start date", 
            "cell_type": "markdown", 
            "metadata": {}
        }, 
        {
            "execution_count": null, 
            "cell_type": "code", 
            "metadata": {}, 
            "outputs": [], 
            "source": "df['COVERAGE DAYS'] = df['END_DATETIME'] - df['START_DATETIME']\ndf['COVERAGE DAYS'] = df['COVERAGE DAYS'].astype(str)\ndf['COVERAGE PERIOD'] = df['COVERAGE DAYS'].str.split(' ').str[0]\ndf['COVERAGE PERIOD'] = pd.to_numeric(df['COVERAGE PERIOD'], errors = 'coerce')"
        }, 
        {
            "source": "c. Slice the dataframe to include strictly positive payment amounts and coverage period greater than zero", 
            "cell_type": "markdown", 
            "metadata": {}
        }, 
        {
            "execution_count": null, 
            "cell_type": "code", 
            "metadata": {}, 
            "outputs": [], 
            "source": "mask2 = (df['AMOUNT'] > 0) & (df['COVERAGE PERIOD'] >= 0)\ndf2 = df.loc[mask2]"
        }, 
        {
            "source": "d. Find the standard deviation of COVERATE PERIOD", 
            "cell_type": "markdown", 
            "metadata": {}
        }, 
        {
            "execution_count": null, 
            "cell_type": "code", 
            "metadata": {}, 
            "outputs": [], 
            "source": "std = statistics.stdev(df2['COVERAGE PERIOD'])\nstd"
        }, 
        {
            "source": "### Q3: What was the average annual expenditure with a 'START DATE' date between January 1, 2010 and December 31, 2016 (inclusive)? Only consider payments wiht strictly positive amounts.", 
            "cell_type": "markdown", 
            "metadata": {}
        }, 
        {
            "source": "a. Set start and end values", 
            "cell_type": "markdown", 
            "metadata": {}
        }, 
        {
            "execution_count": null, 
            "cell_type": "code", 
            "metadata": {}, 
            "outputs": [], 
            "source": "START = '2010-01-01'\nEND = '2016-12-31'"
        }, 
        {
            "source": "b. Slice dataframe to include strictly positive payment amounts and start dates between Jan 1, 2010 and Dec 31, 2016", 
            "cell_type": "markdown", 
            "metadata": {}
        }, 
        {
            "execution_count": null, 
            "cell_type": "code", 
            "metadata": {}, 
            "outputs": [], 
            "source": "mask3 = (df['AMOUNT'] > 0) & (df_pos['START_DATETIME'] >= START) & (df_pos['START_DATETIME'] <= END)\ndf3 = df.loc[mask3]"
        }, 
        {
            "execution_count": null, 
            "cell_type": "code", 
            "metadata": {}, 
            "outputs": [], 
            "source": "df_mean = df3.groupby('START YEAR')['AMOUNT'].sum()\ndf_mean = df_mean.reset_index()\ndf_mean.columns = [['year','yearly amount']]"
        }, 
        {
            "execution_count": null, 
            "cell_type": "code", 
            "metadata": {}, 
            "outputs": [], 
            "source": "df_mean['yearly amount'].mean()"
        }, 
        {
            "source": "### Q4: Find the 'OFFICE' with the highest total expenditures with a 'START DATE' in 2016. For this office, find the 'PURPOSE' that accounts for the highest total expenditures. What fraction of the total expenditures (all records, all offices) with a 'START DATE' in 2016 do these expenditures amount to?", 
            "cell_type": "markdown", 
            "metadata": {}
        }, 
        {
            "source": "a. Find the 'OFFICE' with the highest total expenditures with a 'START DATE' in 2016. ", 
            "cell_type": "markdown", 
            "metadata": {}
        }, 
        {
            "execution_count": null, 
            "cell_type": "code", 
            "metadata": {}, 
            "outputs": [], 
            "source": "mask4 = (df['START YEAR'] == 16.0) & (df['AMOUNT'] > 0)\ndf4 = df.loc[mask4]"
        }, 
        {
            "execution_count": null, 
            "cell_type": "code", 
            "metadata": {}, 
            "outputs": [], 
            "source": "df4o = df4.groupby('OFFICE', sort = True)['AMOUNT'].sum().reset_index()"
        }, 
        {
            "execution_count": null, 
            "cell_type": "code", 
            "metadata": {}, 
            "outputs": [], 
            "source": "df4o.sort_values('AMOUNT', ascending=False).max()"
        }, 
        {
            "execution_count": null, 
            "cell_type": "code", 
            "metadata": {}, 
            "outputs": [], 
            "source": "df4o.iloc[550]"
        }, 
        {
            "execution_count": null, 
            "cell_type": "code", 
            "metadata": {}, 
            "outputs": [], 
            "source": "office = 'GOVERNMENT CONTRIBUTIONS'"
        }, 
        {
            "source": "b. For this office, find the 'PURPOSE' that accounts for the highest total expenditures.", 
            "cell_type": "markdown", 
            "metadata": {}
        }, 
        {
            "execution_count": null, 
            "cell_type": "code", 
            "metadata": {}, 
            "outputs": [], 
            "source": "mask4 = (df4['OFFICE'] == office)\ndf4gc = df4.loc[mask4]"
        }, 
        {
            "execution_count": null, 
            "cell_type": "code", 
            "metadata": {}, 
            "outputs": [], 
            "source": "df4gcp = df4gc.groupby('PURPOSE', sort = True)['AMOUNT'].sum().reset_index()"
        }, 
        {
            "execution_count": null, 
            "cell_type": "code", 
            "metadata": {}, 
            "outputs": [], 
            "source": "df4gcp.iloc[6]"
        }, 
        {
            "execution_count": null, 
            "cell_type": "code", 
            "metadata": {}, 
            "outputs": [], 
            "source": "purpose = 'FERS'"
        }, 
        {
            "source": "c. What fraction of the total expenditures (all records, all offices) with a 'START DATE' in 2016 do these expenditures amount to?", 
            "cell_type": "markdown", 
            "metadata": {}
        }, 
        {
            "execution_count": null, 
            "cell_type": "code", 
            "metadata": {}, 
            "outputs": [], 
            "source": "total_exp16 = df4['AMOUNT'].sum()\ntotal_exp16"
        }, 
        {
            "execution_count": null, 
            "cell_type": "code", 
            "metadata": {}, 
            "outputs": [], 
            "source": "mask4 = (df4['OFFICE'] == office) & (df4['PURPOSE'] == purpose)\ndf4gcp = df4.loc[mask4]"
        }, 
        {
            "execution_count": null, 
            "cell_type": "code", 
            "metadata": {}, 
            "outputs": [], 
            "source": "office_purpose_exp16 = df4gcp['AMOUNT'].sum()\noffice_purpose_exp16"
        }, 
        {
            "execution_count": null, 
            "cell_type": "code", 
            "metadata": {}, 
            "outputs": [], 
            "source": "fraction = office_purpose_exp16/total_exp16\nfraction"
        }, 
        {
            "source": "### Q5: What was the highest average staff salary among all representatives in 2016? Assume staff sizes is equal to the number of unique payees in the 'PERSONNEL COMPENSATION' category for each representative.", 
            "cell_type": "markdown", 
            "metadata": {}
        }, 
        {
            "source": "a. Slice dataframe to include PERSONNEL COMPENSATION payments in 2016", 
            "cell_type": "markdown", 
            "metadata": {}
        }, 
        {
            "execution_count": null, 
            "cell_type": "code", 
            "metadata": {}, 
            "outputs": [], 
            "source": "mask5 = (df['CATEGORY'] == 'PERSONNEL COMPENSATION') & (df['START YEAR'] == 16.0)\ndf5 = df.loc[mask5]"
        }, 
        {
            "source": "b. Take the total amount paid to unique payees by office", 
            "cell_type": "markdown", 
            "metadata": {}
        }, 
        {
            "execution_count": null, 
            "cell_type": "code", 
            "metadata": {}, 
            "outputs": [], 
            "source": "df5s = df5.groupby(['OFFICE','PAYEE'])['AMOUNT'].sum().reset_index()"
        }, 
        {
            "source": "c. Count number of payees by office", 
            "cell_type": "markdown", 
            "metadata": {}
        }, 
        {
            "execution_count": null, 
            "cell_type": "code", 
            "metadata": {}, 
            "outputs": [], 
            "source": "df5s['STAFF SIZE'] = 1\ndf5ss = df5s.groupby(['OFFICE'])['AMOUNT', 'STAFF SIZE'].sum().reset_index()"
        }, 
        {
            "source": "d. Take the average amount paid to all payees by office", 
            "cell_type": "markdown", 
            "metadata": {}
        }, 
        {
            "execution_count": null, 
            "cell_type": "code", 
            "metadata": {}, 
            "outputs": [], 
            "source": "df5ss ['AVG STAFF SALARY'] = df5ss['AMOUNT']/df5ss['STAFF SIZE']\ndf5ss.sort_values(by='AVG STAFF SALARY', ascending = False)\ndf5ss.max()"
        }, 
        {
            "source": "### Q6: What was the median rate of annual turnover in staff between 2011 and 2016 (inclusive)? Turnover for 2011 should be calculated as the fraction of a representative's staff from 2010 who did not carry over to 2011. Only consider representatives who served for at least 4 years and had staff size of at least 5 every year that they served.", 
            "cell_type": "markdown", 
            "metadata": {}
        }, 
        {
            "source": "a. Dataframe for question 6 looks at payees as employees", 
            "cell_type": "markdown", 
            "metadata": {}
        }, 
        {
            "execution_count": 171, 
            "cell_type": "code", 
            "metadata": {}, 
            "outputs": [], 
            "source": "df['OFFICE']=df['OFFICE'].str.rstrip('-')"
        }, 
        {
            "execution_count": 172, 
            "cell_type": "code", 
            "metadata": {}, 
            "outputs": [], 
            "source": "df['OFFICE']=df['OFFICE'].str.rstrip('--')"
        }, 
        {
            "execution_count": 173, 
            "cell_type": "code", 
            "metadata": {}, 
            "outputs": [
                {
                    "execution_count": 173, 
                    "metadata": {}, 
                    "data": {
                        "text/html": "<div>\n<style scoped>\n    .dataframe tbody tr th:only-of-type {\n        vertical-align: middle;\n    }\n\n    .dataframe tbody tr th {\n        vertical-align: top;\n    }\n\n    .dataframe thead th {\n        text-align: right;\n    }\n</style>\n<table border=\"1\" class=\"dataframe\">\n  <thead>\n    <tr style=\"text-align: right;\">\n      <th></th>\n      <th>OFFICE</th>\n      <th>PAYEE</th>\n      <th>START YEAR</th>\n    </tr>\n  </thead>\n  <tbody>\n    <tr>\n      <th>86</th>\n      <td>OFFICE OF THE SPEAKER</td>\n      <td>DALY, BRENDAN</td>\n      <td>9.0</td>\n    </tr>\n    <tr>\n      <th>87</th>\n      <td>OFFICE OF THE SPEAKER</td>\n      <td>LEVISON, LARA K</td>\n      <td>9.0</td>\n    </tr>\n    <tr>\n      <th>88</th>\n      <td>OFFICE OF THE SPEAKER</td>\n      <td>ONEK,JOSEPH</td>\n      <td>9.0</td>\n    </tr>\n    <tr>\n      <th>89</th>\n      <td>OFFICE OF THE SPEAKER</td>\n      <td>PARKER, WYNDEE R</td>\n      <td>9.0</td>\n    </tr>\n    <tr>\n      <th>90</th>\n      <td>OFFICE OF THE SPEAKER</td>\n      <td>PRICE, REVA B</td>\n      <td>9.0</td>\n    </tr>\n  </tbody>\n</table>\n</div>", 
                        "text/plain": "                   OFFICE             PAYEE  START YEAR\n86  OFFICE OF THE SPEAKER     DALY, BRENDAN         9.0\n87  OFFICE OF THE SPEAKER   LEVISON, LARA K         9.0\n88  OFFICE OF THE SPEAKER       ONEK,JOSEPH         9.0\n89  OFFICE OF THE SPEAKER  PARKER, WYNDEE R         9.0\n90  OFFICE OF THE SPEAKER     PRICE, REVA B         9.0"
                    }, 
                    "output_type": "execute_result"
                }
            ], 
            "source": "mask6 = (df['CATEGORY'] == 'PERSONNEL COMPENSATION')\ndf6 = df.loc[mask6]\ndf6 = df6[['OFFICE','PAYEE','START YEAR']]\ndf6.head()"
        }, 
        {
            "source": "b. Dataframe s groups staff by start year", 
            "cell_type": "markdown", 
            "metadata": {}
        }, 
        {
            "execution_count": 174, 
            "cell_type": "code", 
            "metadata": {
                "scrolled": true
            }, 
            "outputs": [
                {
                    "execution_count": 174, 
                    "metadata": {}, 
                    "data": {
                        "text/html": "<div>\n<style scoped>\n    .dataframe tbody tr th:only-of-type {\n        vertical-align: middle;\n    }\n\n    .dataframe tbody tr th {\n        vertical-align: top;\n    }\n\n    .dataframe thead th {\n        text-align: right;\n    }\n</style>\n<table border=\"1\" class=\"dataframe\">\n  <thead>\n    <tr style=\"text-align: right;\">\n      <th></th>\n      <th>OFFICE</th>\n      <th>PAYEE</th>\n      <th>START YEAR</th>\n    </tr>\n  </thead>\n  <tbody>\n    <tr>\n      <th>0</th>\n      <td>19TH DISTRICT OF FLORIDA</td>\n      <td>ALVI,HINA R</td>\n      <td>9.0</td>\n    </tr>\n    <tr>\n      <th>1</th>\n      <td>19TH DISTRICT OF FLORIDA</td>\n      <td>BAFER, COURTNEY D</td>\n      <td>9.0</td>\n    </tr>\n    <tr>\n      <th>2</th>\n      <td>19TH DISTRICT OF FLORIDA</td>\n      <td>BENSON, JILL A</td>\n      <td>9.0</td>\n    </tr>\n    <tr>\n      <th>3</th>\n      <td>19TH DISTRICT OF FLORIDA</td>\n      <td>BERGER,LAUREN</td>\n      <td>9.0</td>\n    </tr>\n    <tr>\n      <th>4</th>\n      <td>19TH DISTRICT OF FLORIDA</td>\n      <td>BRIER, THERESA K</td>\n      <td>9.0</td>\n    </tr>\n  </tbody>\n</table>\n</div>", 
                        "text/plain": "                     OFFICE              PAYEE  START YEAR\n0  19TH DISTRICT OF FLORIDA        ALVI,HINA R         9.0\n1  19TH DISTRICT OF FLORIDA  BAFER, COURTNEY D         9.0\n2  19TH DISTRICT OF FLORIDA     BENSON, JILL A         9.0\n3  19TH DISTRICT OF FLORIDA      BERGER,LAUREN         9.0\n4  19TH DISTRICT OF FLORIDA   BRIER, THERESA K         9.0"
                    }, 
                    "output_type": "execute_result"
                }
            ], 
            "source": "df6s = df6.groupby(['OFFICE','PAYEE','START YEAR']).count().reset_index()\ndf6s = df6s.drop_duplicates()\ndf6s.head()"
        }, 
        {
            "execution_count": 175, 
            "cell_type": "code", 
            "metadata": {}, 
            "outputs": [], 
            "source": "df6s['START YEAR'] = df6s['START YEAR'].astype(int)\nmask6 = (df6s['START YEAR'] >= 10) & (df6s['START YEAR'] <= 16)\ndf6s = df6s.loc[mask6]"
        }, 
        {
            "execution_count": 176, 
            "cell_type": "code", 
            "metadata": {}, 
            "outputs": [
                {
                    "execution_count": 176, 
                    "metadata": {}, 
                    "data": {
                        "text/plain": "14    13444\n12    13949\n15    15028\n13    15149\n11    17049\n10    17325\n16    23504\nName: START YEAR, dtype: int64"
                    }, 
                    "output_type": "execute_result"
                }
            ], 
            "source": "df6s['START YEAR'].value_counts().sort_values()"
        }, 
        {
            "execution_count": 177, 
            "cell_type": "code", 
            "metadata": {}, 
            "outputs": [], 
            "source": "df6s['START YEAR'] = df6s['START YEAR'].astype(str)"
        }, 
        {
            "execution_count": 178, 
            "cell_type": "code", 
            "metadata": {}, 
            "outputs": [], 
            "source": "df6s['START YEAR'] = df6s['START YEAR'].str.zfill(2)"
        }, 
        {
            "execution_count": 179, 
            "cell_type": "code", 
            "metadata": {}, 
            "outputs": [
                {
                    "execution_count": 179, 
                    "metadata": {}, 
                    "data": {
                        "text/plain": "Index(['OFFICE', 'PAYEE', 'START YEAR'], dtype='object')"
                    }, 
                    "output_type": "execute_result"
                }
            ], 
            "source": "df6s.columns"
        }, 
        {
            "execution_count": 180, 
            "cell_type": "code", 
            "metadata": {
                "scrolled": true
            }, 
            "outputs": [
                {
                    "execution_count": 180, 
                    "metadata": {}, 
                    "data": {
                        "text/html": "<div>\n<style scoped>\n    .dataframe tbody tr th:only-of-type {\n        vertical-align: middle;\n    }\n\n    .dataframe tbody tr th {\n        vertical-align: top;\n    }\n\n    .dataframe thead th {\n        text-align: right;\n    }\n</style>\n<table border=\"1\" class=\"dataframe\">\n  <thead>\n    <tr style=\"text-align: right;\">\n      <th></th>\n      <th>OFFICE</th>\n      <th>PAYEE</th>\n      <th>START YEAR</th>\n      <th>STAFF SIZE</th>\n    </tr>\n  </thead>\n  <tbody>\n    <tr>\n      <th>24</th>\n      <td>2014 HON. ANDRE CARSON</td>\n      <td>9/1/14</td>\n      <td>14</td>\n      <td>1</td>\n    </tr>\n    <tr>\n      <th>25</th>\n      <td>2014 HON. ROBERT C. \"BOBBY\" SCOTT</td>\n      <td>9/1/14</td>\n      <td>14</td>\n      <td>1</td>\n    </tr>\n    <tr>\n      <th>26</th>\n      <td>2014 OTHER ADMINISTRATION</td>\n      <td>9/1/14</td>\n      <td>14</td>\n      <td>1</td>\n    </tr>\n    <tr>\n      <th>27</th>\n      <td>2015 HON. KRISTI L. NOEM</td>\n      <td>5/1/15</td>\n      <td>15</td>\n      <td>1</td>\n    </tr>\n    <tr>\n      <th>28</th>\n      <td>2015 HON. RENEE L. ELLMERS</td>\n      <td>9/1/15</td>\n      <td>15</td>\n      <td>1</td>\n    </tr>\n  </tbody>\n</table>\n</div>", 
                        "text/plain": "                               OFFICE   PAYEE START YEAR  STAFF SIZE\n24             2014 HON. ANDRE CARSON  9/1/14         14           1\n25  2014 HON. ROBERT C. \"BOBBY\" SCOTT  9/1/14         14           1\n26         2014 OTHER ADMINISTRATION   9/1/14         14           1\n27           2015 HON. KRISTI L. NOEM  5/1/15         15           1\n28         2015 HON. RENEE L. ELLMERS  9/1/15         15           1"
                    }, 
                    "output_type": "execute_result"
                }
            ], 
            "source": "df6s['STAFF SIZE'] = 1\ndf6s.head()"
        }, 
        {
            "source": "c. Dataframe ss gets number of staff in each startyear year by office", 
            "cell_type": "markdown", 
            "metadata": {}
        }, 
        {
            "execution_count": 181, 
            "cell_type": "code", 
            "metadata": {
                "scrolled": true
            }, 
            "outputs": [
                {
                    "execution_count": 181, 
                    "metadata": {}, 
                    "data": {
                        "text/html": "<div>\n<style scoped>\n    .dataframe tbody tr th:only-of-type {\n        vertical-align: middle;\n    }\n\n    .dataframe tbody tr th {\n        vertical-align: top;\n    }\n\n    .dataframe thead th {\n        text-align: right;\n    }\n</style>\n<table border=\"1\" class=\"dataframe\">\n  <thead>\n    <tr style=\"text-align: right;\">\n      <th></th>\n      <th>OFFICE</th>\n      <th>START YEAR</th>\n      <th>STAFF SIZE</th>\n    </tr>\n  </thead>\n  <tbody>\n    <tr>\n      <th>0</th>\n      <td>2014 HON. ANDRE CARSON</td>\n      <td>14</td>\n      <td>1</td>\n    </tr>\n    <tr>\n      <th>1</th>\n      <td>2014 HON. ROBERT C. \"BOBBY\" SCOTT</td>\n      <td>14</td>\n      <td>1</td>\n    </tr>\n    <tr>\n      <th>2</th>\n      <td>2014 OTHER ADMINISTRATION</td>\n      <td>14</td>\n      <td>1</td>\n    </tr>\n    <tr>\n      <th>3</th>\n      <td>2015 HON. KRISTI L. NOEM</td>\n      <td>15</td>\n      <td>1</td>\n    </tr>\n    <tr>\n      <th>4</th>\n      <td>2015 HON. RENEE L. ELLMERS</td>\n      <td>15</td>\n      <td>1</td>\n    </tr>\n  </tbody>\n</table>\n</div>", 
                        "text/plain": "                              OFFICE START YEAR  STAFF SIZE\n0             2014 HON. ANDRE CARSON         14           1\n1  2014 HON. ROBERT C. \"BOBBY\" SCOTT         14           1\n2         2014 OTHER ADMINISTRATION          14           1\n3           2015 HON. KRISTI L. NOEM         15           1\n4         2015 HON. RENEE L. ELLMERS         15           1"
                    }, 
                    "output_type": "execute_result"
                }
            ], 
            "source": "df6ss = df6s.groupby(['OFFICE', 'START YEAR'])['STAFF SIZE'].sum().reset_index()\ndf6ss.head()"
        }, 
        {
            "source": "d. Dataframe st gets staff turnover in each office by startyear", 
            "cell_type": "markdown", 
            "metadata": {}
        }, 
        {
            "execution_count": 182, 
            "cell_type": "code", 
            "metadata": {}, 
            "outputs": [], 
            "source": "df6s = pd.get_dummies(df6s, prefix=['year_'], columns=['START YEAR'])"
        }, 
        {
            "execution_count": 183, 
            "cell_type": "code", 
            "metadata": {}, 
            "outputs": [
                {
                    "execution_count": 183, 
                    "metadata": {}, 
                    "data": {
                        "text/html": "<div>\n<style scoped>\n    .dataframe tbody tr th:only-of-type {\n        vertical-align: middle;\n    }\n\n    .dataframe tbody tr th {\n        vertical-align: top;\n    }\n\n    .dataframe thead th {\n        text-align: right;\n    }\n</style>\n<table border=\"1\" class=\"dataframe\">\n  <thead>\n    <tr style=\"text-align: right;\">\n      <th></th>\n      <th>OFFICE</th>\n      <th>PAYEE</th>\n      <th>STAFF SIZE</th>\n      <th>year__10</th>\n      <th>year__11</th>\n      <th>year__12</th>\n      <th>year__13</th>\n      <th>year__14</th>\n      <th>year__15</th>\n      <th>year__16</th>\n    </tr>\n  </thead>\n  <tbody>\n    <tr>\n      <th>167678</th>\n      <td>VETERANS' AFFAIRS</td>\n      <td>WU, ARTHUR K</td>\n      <td>1</td>\n      <td>0</td>\n      <td>1</td>\n      <td>0</td>\n      <td>0</td>\n      <td>0</td>\n      <td>0</td>\n      <td>0</td>\n    </tr>\n    <tr>\n      <th>167680</th>\n      <td>VETERANS' AFFAIRS</td>\n      <td>ZAPATA,JIAN</td>\n      <td>1</td>\n      <td>1</td>\n      <td>0</td>\n      <td>0</td>\n      <td>0</td>\n      <td>0</td>\n      <td>0</td>\n      <td>0</td>\n    </tr>\n    <tr>\n      <th>167681</th>\n      <td>VETERANS' AFFAIRS</td>\n      <td>ZAPATA,JIAN</td>\n      <td>1</td>\n      <td>0</td>\n      <td>1</td>\n      <td>0</td>\n      <td>0</td>\n      <td>0</td>\n      <td>0</td>\n      <td>0</td>\n    </tr>\n    <tr>\n      <th>167682</th>\n      <td>VETERANS' AFFAIRS</td>\n      <td>ZAPATA,JIAN</td>\n      <td>1</td>\n      <td>0</td>\n      <td>0</td>\n      <td>1</td>\n      <td>0</td>\n      <td>0</td>\n      <td>0</td>\n      <td>0</td>\n    </tr>\n    <tr>\n      <th>167683</th>\n      <td>VETERANS' AFFAIRS</td>\n      <td>ZAPATA,JIAN</td>\n      <td>1</td>\n      <td>0</td>\n      <td>0</td>\n      <td>0</td>\n      <td>1</td>\n      <td>0</td>\n      <td>0</td>\n      <td>0</td>\n    </tr>\n  </tbody>\n</table>\n</div>", 
                        "text/plain": "                   OFFICE         PAYEE  STAFF SIZE  year__10  year__11  \\\n167678  VETERANS' AFFAIRS  WU, ARTHUR K           1         0         1   \n167680  VETERANS' AFFAIRS   ZAPATA,JIAN           1         1         0   \n167681  VETERANS' AFFAIRS   ZAPATA,JIAN           1         0         1   \n167682  VETERANS' AFFAIRS   ZAPATA,JIAN           1         0         0   \n167683  VETERANS' AFFAIRS   ZAPATA,JIAN           1         0         0   \n\n        year__12  year__13  year__14  year__15  year__16  \n167678         0         0         0         0         0  \n167680         0         0         0         0         0  \n167681         0         0         0         0         0  \n167682         1         0         0         0         0  \n167683         0         1         0         0         0  "
                    }, 
                    "output_type": "execute_result"
                }
            ], 
            "source": "df6s.tail()"
        }, 
        {
            "execution_count": 184, 
            "cell_type": "code", 
            "metadata": {}, 
            "outputs": [
                {
                    "execution_count": 184, 
                    "metadata": {}, 
                    "data": {
                        "text/html": "<div>\n<style scoped>\n    .dataframe tbody tr th:only-of-type {\n        vertical-align: middle;\n    }\n\n    .dataframe tbody tr th {\n        vertical-align: top;\n    }\n\n    .dataframe thead th {\n        text-align: right;\n    }\n</style>\n<table border=\"1\" class=\"dataframe\">\n  <thead>\n    <tr style=\"text-align: right;\">\n      <th></th>\n      <th>OFFICE</th>\n      <th>PAYEE</th>\n      <th>year__10</th>\n      <th>year__11</th>\n      <th>year__12</th>\n      <th>year__13</th>\n      <th>year__14</th>\n      <th>year__15</th>\n      <th>year__16</th>\n    </tr>\n  </thead>\n  <tbody>\n    <tr>\n      <th>0</th>\n      <td>2014 HON. ANDRE CARSON</td>\n      <td>9/1/14</td>\n      <td>0</td>\n      <td>0</td>\n      <td>0</td>\n      <td>0</td>\n      <td>1</td>\n      <td>0</td>\n      <td>0</td>\n    </tr>\n    <tr>\n      <th>1</th>\n      <td>2014 HON. ROBERT C. \"BOBBY\" SCOTT</td>\n      <td>9/1/14</td>\n      <td>0</td>\n      <td>0</td>\n      <td>0</td>\n      <td>0</td>\n      <td>1</td>\n      <td>0</td>\n      <td>0</td>\n    </tr>\n    <tr>\n      <th>2</th>\n      <td>2014 OTHER ADMINISTRATION</td>\n      <td>9/1/14</td>\n      <td>0</td>\n      <td>0</td>\n      <td>0</td>\n      <td>0</td>\n      <td>1</td>\n      <td>0</td>\n      <td>0</td>\n    </tr>\n    <tr>\n      <th>3</th>\n      <td>2015 HON. KRISTI L. NOEM</td>\n      <td>5/1/15</td>\n      <td>0</td>\n      <td>0</td>\n      <td>0</td>\n      <td>0</td>\n      <td>0</td>\n      <td>1</td>\n      <td>0</td>\n    </tr>\n    <tr>\n      <th>4</th>\n      <td>2015 HON. RENEE L. ELLMERS</td>\n      <td>9/1/15</td>\n      <td>0</td>\n      <td>0</td>\n      <td>0</td>\n      <td>0</td>\n      <td>0</td>\n      <td>1</td>\n      <td>0</td>\n    </tr>\n  </tbody>\n</table>\n</div>", 
                        "text/plain": "                              OFFICE   PAYEE  year__10  year__11  year__12  \\\n0             2014 HON. ANDRE CARSON  9/1/14         0         0         0   \n1  2014 HON. ROBERT C. \"BOBBY\" SCOTT  9/1/14         0         0         0   \n2         2014 OTHER ADMINISTRATION   9/1/14         0         0         0   \n3           2015 HON. KRISTI L. NOEM  5/1/15         0         0         0   \n4         2015 HON. RENEE L. ELLMERS  9/1/15         0         0         0   \n\n   year__13  year__14  year__15  year__16  \n0         0         1         0         0  \n1         0         1         0         0  \n2         0         1         0         0  \n3         0         0         1         0  \n4         0         0         1         0  "
                    }, 
                    "output_type": "execute_result"
                }
            ], 
            "source": "yrs = ['year__10','year__11', 'year__12','year__13','year__14','year__15','year__16']\ndf6st = df6s.groupby(['OFFICE', 'PAYEE'])[yrs].sum().reset_index()\ndf6st.head()"
        }, 
        {
            "execution_count": 185, 
            "cell_type": "code", 
            "metadata": {}, 
            "outputs": [], 
            "source": "for i in range(11,17):\n    turnover = 'turnover_'+str(i)\n    df6st[turnover] = 0"
        }, 
        {
            "source": "e. Only consider offices of members who served for at least 4 years and had a staff size of at least 5 every year that they served ", 
            "cell_type": "markdown", 
            "metadata": {}
        }, 
        {
            "source": "e.i. Dataframe m5 filters members with staff size at least 5", 
            "cell_type": "markdown", 
            "metadata": {}
        }, 
        {
            "execution_count": 186, 
            "cell_type": "code", 
            "metadata": {}, 
            "outputs": [], 
            "source": "df6m5 = df6st.groupby(['OFFICE'])[yrs].sum().reset_index()\n\ndf6m5['STAFF_TOT'] = df6m5['year__11']+df6m5['year__12']+df6m5['year__13']+df6m5['year__14']+df6m5['year__15']+df6m5['year__16']\ndf6m5['STAFF_TOT_GR5'] = 0\ndf6m5.loc[(df6m5['STAFF_TOT'] >=5), 'STAFF_TOT_GR5'] = 1 "
        }, 
        {
            "execution_count": 187, 
            "cell_type": "code", 
            "metadata": {}, 
            "outputs": [
                {
                    "execution_count": 187, 
                    "metadata": {}, 
                    "data": {
                        "text/plain": "1    772\n0    145\nName: STAFF_TOT_GR5, dtype: int64"
                    }, 
                    "output_type": "execute_result"
                }
            ], 
            "source": "df6m5['STAFF_TOT_GR5'].value_counts()"
        }, 
        {
            "source": "e.ii. Dataframe m4 filters members serving at least 4 years", 
            "cell_type": "markdown", 
            "metadata": {}
        }, 
        {
            "execution_count": 188, 
            "cell_type": "code", 
            "metadata": {}, 
            "outputs": [], 
            "source": "df6m4 = df[['OFFICE','START YEAR']]"
        }, 
        {
            "execution_count": 189, 
            "cell_type": "code", 
            "metadata": {}, 
            "outputs": [
                {
                    "execution_count": 189, 
                    "metadata": {}, 
                    "data": {
                        "text/html": "<div>\n<style scoped>\n    .dataframe tbody tr th:only-of-type {\n        vertical-align: middle;\n    }\n\n    .dataframe tbody tr th {\n        vertical-align: top;\n    }\n\n    .dataframe thead th {\n        text-align: right;\n    }\n</style>\n<table border=\"1\" class=\"dataframe\">\n  <thead>\n    <tr style=\"text-align: right;\">\n      <th></th>\n      <th>OFFICE</th>\n      <th>START YEAR</th>\n    </tr>\n  </thead>\n  <tbody>\n    <tr>\n      <th>3542016</th>\n      <td>FORD DC ENHANCE</td>\n      <td>15.0</td>\n    </tr>\n    <tr>\n      <th>3542017</th>\n      <td>FORD DC ENHANCE</td>\n      <td>15.0</td>\n    </tr>\n    <tr>\n      <th>3542018</th>\n      <td>FORD DC ENHANCE</td>\n      <td>15.0</td>\n    </tr>\n    <tr>\n      <th>3542019</th>\n      <td>FORD DC ENHANCE</td>\n      <td>15.0</td>\n    </tr>\n    <tr>\n      <th>3542020</th>\n      <td>PAGING</td>\n      <td>15.0</td>\n    </tr>\n  </tbody>\n</table>\n</div>", 
                        "text/plain": "                  OFFICE  START YEAR\n3542016  FORD DC ENHANCE        15.0\n3542017  FORD DC ENHANCE        15.0\n3542018  FORD DC ENHANCE        15.0\n3542019  FORD DC ENHANCE        15.0\n3542020           PAGING        15.0"
                    }, 
                    "output_type": "execute_result"
                }
            ], 
            "source": "df6m4.tail()"
        }, 
        {
            "execution_count": 190, 
            "cell_type": "code", 
            "metadata": {}, 
            "outputs": [], 
            "source": "df6m4 = df6m4.groupby(['OFFICE','START YEAR']).count().reset_index()"
        }, 
        {
            "execution_count": 191, 
            "cell_type": "code", 
            "metadata": {}, 
            "outputs": [
                {
                    "execution_count": 191, 
                    "metadata": {}, 
                    "data": {
                        "text/plain": "Index(['OFFICE', 'START YEAR'], dtype='object')"
                    }, 
                    "output_type": "execute_result"
                }
            ], 
            "source": "df6m4.columns"
        }, 
        {
            "execution_count": 192, 
            "cell_type": "code", 
            "metadata": {}, 
            "outputs": [], 
            "source": "df6m4['START YEAR'] = df6m4['START YEAR'].astype(int)"
        }, 
        {
            "execution_count": 193, 
            "cell_type": "code", 
            "metadata": {}, 
            "outputs": [], 
            "source": "df6m4['START YEAR'] = df6m4['START YEAR'].astype(str)"
        }, 
        {
            "execution_count": 194, 
            "cell_type": "code", 
            "metadata": {}, 
            "outputs": [], 
            "source": "df6m4['START YEAR'] = df6m4['START YEAR'].str.zfill(2)"
        }, 
        {
            "execution_count": 161, 
            "cell_type": "code", 
            "metadata": {}, 
            "outputs": [], 
            "source": "#df6m4['START YEAR'].value_counts()"
        }, 
        {
            "execution_count": 195, 
            "cell_type": "code", 
            "metadata": {}, 
            "outputs": [], 
            "source": "df6m4 = pd.get_dummies(df6m4, prefix=['year_'], columns=['START YEAR'])"
        }, 
        {
            "execution_count": 163, 
            "cell_type": "code", 
            "metadata": {}, 
            "outputs": [
                {
                    "execution_count": 163, 
                    "metadata": {}, 
                    "data": {
                        "text/plain": "Index(['OFFICE', 'year__00', 'year__01', 'year__02', 'year__03', 'year__04',\n       'year__05', 'year__06', 'year__07', 'year__08', 'year__09', 'year__10',\n       'year__11', 'year__12', 'year__13', 'year__14', 'year__15', 'year__16',\n       'year__17', 'year__18', 'year__19', 'year__20', 'year__25', 'year__44',\n       'year__51', 'year__61', 'year__98', 'year__99'],\n      dtype='object')"
                    }, 
                    "output_type": "execute_result"
                }
            ], 
            "source": "df6m4.columns"
        }, 
        {
            "execution_count": 196, 
            "cell_type": "code", 
            "metadata": {}, 
            "outputs": [], 
            "source": "years = ['year__07', 'year__08','year__09','year__10','year__11', 'year__12','year__13','year__14','year__15','year__16', 'year__17', 'year__18']\ndf6m4 = df6m4.groupby(['OFFICE'])[years].sum().reset_index()\n"
        }, 
        {
            "execution_count": 197, 
            "cell_type": "code", 
            "metadata": {}, 
            "outputs": [
                {
                    "execution_count": 197, 
                    "metadata": {}, 
                    "data": {
                        "text/html": "<div>\n<style scoped>\n    .dataframe tbody tr th:only-of-type {\n        vertical-align: middle;\n    }\n\n    .dataframe tbody tr th {\n        vertical-align: top;\n    }\n\n    .dataframe thead th {\n        text-align: right;\n    }\n</style>\n<table border=\"1\" class=\"dataframe\">\n  <thead>\n    <tr style=\"text-align: right;\">\n      <th></th>\n      <th>OFFICE</th>\n      <th>year__07</th>\n      <th>year__08</th>\n      <th>year__09</th>\n      <th>year__10</th>\n      <th>year__11</th>\n      <th>year__12</th>\n      <th>year__13</th>\n      <th>year__14</th>\n      <th>year__15</th>\n      <th>year__16</th>\n      <th>year__17</th>\n      <th>year__18</th>\n    </tr>\n  </thead>\n  <tbody>\n    <tr>\n      <th>2712</th>\n      <td>TECHNOLOGY SUPPORT</td>\n      <td>0</td>\n      <td>0</td>\n      <td>0</td>\n      <td>0</td>\n      <td>0</td>\n      <td>0</td>\n      <td>1</td>\n      <td>1</td>\n      <td>1</td>\n      <td>1</td>\n      <td>1</td>\n      <td>0</td>\n    </tr>\n    <tr>\n      <th>2713</th>\n      <td>TRANSITION ACITIVITES</td>\n      <td>1</td>\n      <td>1</td>\n      <td>1</td>\n      <td>1</td>\n      <td>0</td>\n      <td>0</td>\n      <td>0</td>\n      <td>0</td>\n      <td>0</td>\n      <td>0</td>\n      <td>0</td>\n      <td>0</td>\n    </tr>\n    <tr>\n      <th>2714</th>\n      <td>TRANSPORTATION-INFRASTRUCTURE</td>\n      <td>0</td>\n      <td>1</td>\n      <td>1</td>\n      <td>1</td>\n      <td>1</td>\n      <td>1</td>\n      <td>1</td>\n      <td>1</td>\n      <td>1</td>\n      <td>1</td>\n      <td>1</td>\n      <td>1</td>\n    </tr>\n    <tr>\n      <th>2715</th>\n      <td>VETERANS' AFFAIRS</td>\n      <td>0</td>\n      <td>0</td>\n      <td>1</td>\n      <td>1</td>\n      <td>1</td>\n      <td>1</td>\n      <td>1</td>\n      <td>1</td>\n      <td>1</td>\n      <td>1</td>\n      <td>1</td>\n      <td>0</td>\n    </tr>\n    <tr>\n      <th>2716</th>\n      <td>r</td>\n      <td>0</td>\n      <td>0</td>\n      <td>0</td>\n      <td>0</td>\n      <td>0</td>\n      <td>0</td>\n      <td>0</td>\n      <td>0</td>\n      <td>0</td>\n      <td>0</td>\n      <td>1</td>\n      <td>0</td>\n    </tr>\n  </tbody>\n</table>\n</div>", 
                        "text/plain": "                             OFFICE  year__07  year__08  year__09  year__10  \\\n2712             TECHNOLOGY SUPPORT         0         0         0         0   \n2713          TRANSITION ACITIVITES         1         1         1         1   \n2714  TRANSPORTATION-INFRASTRUCTURE         0         1         1         1   \n2715              VETERANS' AFFAIRS         0         0         1         1   \n2716                              r         0         0         0         0   \n\n      year__11  year__12  year__13  year__14  year__15  year__16  year__17  \\\n2712         0         0         1         1         1         1         1   \n2713         0         0         0         0         0         0         0   \n2714         1         1         1         1         1         1         1   \n2715         1         1         1         1         1         1         1   \n2716         0         0         0         0         0         0         1   \n\n      year__18  \n2712         0  \n2713         0  \n2714         1  \n2715         0  \n2716         0  "
                    }, 
                    "output_type": "execute_result"
                }
            ], 
            "source": "df6m4.tail()"
        }, 
        {
            "execution_count": 198, 
            "cell_type": "code", 
            "metadata": {}, 
            "outputs": [], 
            "source": "df6m4['YEARS_SERVED'] = df6m4.iloc[:, 1:].sum(1)"
        }, 
        {
            "execution_count": 199, 
            "cell_type": "code", 
            "metadata": {}, 
            "outputs": [], 
            "source": "df6m4['YEARS_SERVED_GR4'] = 0\ndf6m4.loc[(df6m4['YEARS_SERVED'] >=4), 'YEARS_SERVED_GR4'] = 1 "
        }, 
        {
            "execution_count": 200, 
            "cell_type": "code", 
            "metadata": {}, 
            "outputs": [
                {
                    "execution_count": 200, 
                    "metadata": {}, 
                    "data": {
                        "text/plain": "0    1983\n1     734\nName: YEARS_SERVED_GR4, dtype: int64"
                    }, 
                    "output_type": "execute_result"
                }
            ], 
            "source": "df6m4['YEARS_SERVED_GR4'].value_counts()"
        }, 
        {
            "execution_count": 170, 
            "cell_type": "code", 
            "metadata": {}, 
            "outputs": [], 
            "source": "#df6m4['OFFICE'].value_counts()"
        }, 
        {
            "source": "e.iii. Dataframe m54 tags members fitting both criteria", 
            "cell_type": "markdown", 
            "metadata": {}
        }, 
        {
            "execution_count": 201, 
            "cell_type": "code", 
            "metadata": {}, 
            "outputs": [], 
            "source": "df6m54 = pd.merge(df6m4, df6m5, on='OFFICE', how = 'outer')\ndf6m54['MEMBER_SCOPE'] = 0\ndf6m54.loc[(df6m54['YEARS_SERVED_GR4'] == 1) & (df6m54['STAFF_TOT_GR5']), 'MEMBER_SCOPE'] = 1 "
        }, 
        {
            "execution_count": 202, 
            "cell_type": "code", 
            "metadata": {}, 
            "outputs": [
                {
                    "execution_count": 202, 
                    "metadata": {}, 
                    "data": {
                        "text/plain": "663"
                    }, 
                    "output_type": "execute_result"
                }
            ], 
            "source": "df6m54['MEMBER_SCOPE'].sum()"
        }, 
        {
            "source": "f. Calculate turnover for 2011 as the fraction of a representative's staff from 2010 who did not carry over to 2011.", 
            "cell_type": "markdown", 
            "metadata": {}
        }, 
        {
            "execution_count": 203, 
            "cell_type": "code", 
            "metadata": {}, 
            "outputs": [], 
            "source": "yrs = ['year__10','year__11', 'year__12','year__13','year__14','year__15','year__16']\ndf6st.loc[(df6st['year__10'] == 1) &  (df6st['year__11'] != 1), 'turnover_11'] = 1 \ndf6st.loc[(df6st['year__11'] == 1) &  (df6st['year__12'] != 1), 'turnover_12'] = 1 \ndf6st.loc[(df6st['year__12'] == 1) &  (df6st['year__13'] != 1), 'turnover_13'] = 1 \ndf6st.loc[(df6st['year__13'] == 1) &  (df6st['year__14'] != 1), 'turnover_14'] = 1 \ndf6st.loc[(df6st['year__14'] == 1) &  (df6st['year__15'] != 1), 'turnover_15'] = 1 \ndf6st.loc[(df6st['year__15'] == 1) &  (df6st['year__16'] != 1), 'turnover_16'] = 1 "
        }, 
        {
            "execution_count": 204, 
            "cell_type": "code", 
            "metadata": {}, 
            "outputs": [
                {
                    "execution_count": 204, 
                    "metadata": {}, 
                    "data": {
                        "text/html": "<div>\n<style scoped>\n    .dataframe tbody tr th:only-of-type {\n        vertical-align: middle;\n    }\n\n    .dataframe tbody tr th {\n        vertical-align: top;\n    }\n\n    .dataframe thead th {\n        text-align: right;\n    }\n</style>\n<table border=\"1\" class=\"dataframe\">\n  <thead>\n    <tr style=\"text-align: right;\">\n      <th></th>\n      <th>OFFICE</th>\n      <th>PAYEE</th>\n      <th>year__10</th>\n      <th>year__11</th>\n      <th>year__12</th>\n      <th>year__13</th>\n      <th>year__14</th>\n      <th>year__15</th>\n      <th>year__16</th>\n      <th>turnover_11</th>\n      <th>turnover_12</th>\n      <th>turnover_13</th>\n      <th>turnover_14</th>\n      <th>turnover_15</th>\n      <th>turnover_16</th>\n    </tr>\n  </thead>\n  <tbody>\n    <tr>\n      <th>53524</th>\n      <td>VETERANS' AFFAIRS</td>\n      <td>WIBLEMO,CATHLEEN C</td>\n      <td>1</td>\n      <td>1</td>\n      <td>1</td>\n      <td>1</td>\n      <td>1</td>\n      <td>1</td>\n      <td>1</td>\n      <td>0</td>\n      <td>0</td>\n      <td>0</td>\n      <td>0</td>\n      <td>0</td>\n      <td>0</td>\n    </tr>\n    <tr>\n      <th>53525</th>\n      <td>VETERANS' AFFAIRS</td>\n      <td>WILKINS,DANIEL M</td>\n      <td>1</td>\n      <td>1</td>\n      <td>0</td>\n      <td>0</td>\n      <td>0</td>\n      <td>0</td>\n      <td>0</td>\n      <td>0</td>\n      <td>1</td>\n      <td>0</td>\n      <td>0</td>\n      <td>0</td>\n      <td>0</td>\n    </tr>\n    <tr>\n      <th>53526</th>\n      <td>VETERANS' AFFAIRS</td>\n      <td>WILLIAMS, MEGAN</td>\n      <td>1</td>\n      <td>0</td>\n      <td>0</td>\n      <td>0</td>\n      <td>0</td>\n      <td>0</td>\n      <td>0</td>\n      <td>1</td>\n      <td>0</td>\n      <td>0</td>\n      <td>0</td>\n      <td>0</td>\n      <td>0</td>\n    </tr>\n    <tr>\n      <th>53527</th>\n      <td>VETERANS' AFFAIRS</td>\n      <td>WU, ARTHUR K</td>\n      <td>1</td>\n      <td>1</td>\n      <td>0</td>\n      <td>0</td>\n      <td>0</td>\n      <td>0</td>\n      <td>0</td>\n      <td>0</td>\n      <td>1</td>\n      <td>0</td>\n      <td>0</td>\n      <td>0</td>\n      <td>0</td>\n    </tr>\n    <tr>\n      <th>53528</th>\n      <td>VETERANS' AFFAIRS</td>\n      <td>ZAPATA,JIAN</td>\n      <td>1</td>\n      <td>1</td>\n      <td>1</td>\n      <td>1</td>\n      <td>0</td>\n      <td>0</td>\n      <td>0</td>\n      <td>0</td>\n      <td>0</td>\n      <td>0</td>\n      <td>1</td>\n      <td>0</td>\n      <td>0</td>\n    </tr>\n  </tbody>\n</table>\n</div>", 
                        "text/plain": "                  OFFICE               PAYEE  year__10  year__11  year__12  \\\n53524  VETERANS' AFFAIRS  WIBLEMO,CATHLEEN C         1         1         1   \n53525  VETERANS' AFFAIRS    WILKINS,DANIEL M         1         1         0   \n53526  VETERANS' AFFAIRS     WILLIAMS, MEGAN         1         0         0   \n53527  VETERANS' AFFAIRS        WU, ARTHUR K         1         1         0   \n53528  VETERANS' AFFAIRS         ZAPATA,JIAN         1         1         1   \n\n       year__13  year__14  year__15  year__16  turnover_11  turnover_12  \\\n53524         1         1         1         1            0            0   \n53525         0         0         0         0            0            1   \n53526         0         0         0         0            1            0   \n53527         0         0         0         0            0            1   \n53528         1         0         0         0            0            0   \n\n       turnover_13  turnover_14  turnover_15  turnover_16  \n53524            0            0            0            0  \n53525            0            0            0            0  \n53526            0            0            0            0  \n53527            0            0            0            0  \n53528            0            1            0            0  "
                    }, 
                    "output_type": "execute_result"
                }
            ], 
            "source": "df6st.tail()"
        }, 
        {
            "execution_count": 205, 
            "cell_type": "code", 
            "metadata": {
                "scrolled": true
            }, 
            "outputs": [
                {
                    "execution_count": 205, 
                    "metadata": {}, 
                    "data": {
                        "text/plain": "Index(['OFFICE', 'PAYEE', 'year__10', 'year__11', 'year__12', 'year__13',\n       'year__14', 'year__15', 'year__16', 'turnover_11', 'turnover_12',\n       'turnover_13', 'turnover_14', 'turnover_15', 'turnover_16'],\n      dtype='object')"
                    }, 
                    "output_type": "execute_result"
                }
            ], 
            "source": "df6st.columns"
        }, 
        {
            "source": "f.i. Dataframe tt gives total staff turnover in each year", 
            "cell_type": "markdown", 
            "metadata": {}
        }, 
        {
            "execution_count": 206, 
            "cell_type": "code", 
            "metadata": {}, 
            "outputs": [
                {
                    "execution_count": 206, 
                    "metadata": {}, 
                    "data": {
                        "text/html": "<div>\n<style scoped>\n    .dataframe tbody tr th:only-of-type {\n        vertical-align: middle;\n    }\n\n    .dataframe tbody tr th {\n        vertical-align: top;\n    }\n\n    .dataframe thead th {\n        text-align: right;\n    }\n</style>\n<table border=\"1\" class=\"dataframe\">\n  <thead>\n    <tr style=\"text-align: right;\">\n      <th></th>\n      <th>OFFICE</th>\n      <th>turnover_11</th>\n      <th>turnover_12</th>\n      <th>turnover_13</th>\n      <th>turnover_14</th>\n      <th>turnover_15</th>\n      <th>turnover_16</th>\n    </tr>\n  </thead>\n  <tbody>\n    <tr>\n      <th>912</th>\n      <td>STANDARDS OF OFFICIAL CONDUCT</td>\n      <td>29</td>\n      <td>0</td>\n      <td>0</td>\n      <td>0</td>\n      <td>0</td>\n      <td>0</td>\n    </tr>\n    <tr>\n      <th>913</th>\n      <td>SUMMER CAMP</td>\n      <td>0</td>\n      <td>2</td>\n      <td>0</td>\n      <td>1</td>\n      <td>1</td>\n      <td>5</td>\n    </tr>\n    <tr>\n      <th>914</th>\n      <td>TECHNICAL ASSISTANTS</td>\n      <td>0</td>\n      <td>1</td>\n      <td>0</td>\n      <td>0</td>\n      <td>1</td>\n      <td>0</td>\n    </tr>\n    <tr>\n      <th>915</th>\n      <td>TRANSPORTATION-INFRASTRUCTURE</td>\n      <td>21</td>\n      <td>46</td>\n      <td>15</td>\n      <td>31</td>\n      <td>25</td>\n      <td>27</td>\n    </tr>\n    <tr>\n      <th>916</th>\n      <td>VETERANS' AFFAIRS</td>\n      <td>6</td>\n      <td>23</td>\n      <td>6</td>\n      <td>12</td>\n      <td>9</td>\n      <td>9</td>\n    </tr>\n  </tbody>\n</table>\n</div>", 
                        "text/plain": "                            OFFICE  turnover_11  turnover_12  turnover_13  \\\n912  STANDARDS OF OFFICIAL CONDUCT           29            0            0   \n913                    SUMMER CAMP            0            2            0   \n914           TECHNICAL ASSISTANTS            0            1            0   \n915  TRANSPORTATION-INFRASTRUCTURE           21           46           15   \n916              VETERANS' AFFAIRS            6           23            6   \n\n     turnover_14  turnover_15  turnover_16  \n912            0            0            0  \n913            1            1            5  \n914            0            1            0  \n915           31           25           27  \n916           12            9            9  "
                    }, 
                    "output_type": "execute_result"
                }
            ], 
            "source": "# New dataframe with number of staff turned over each year\nturns = ['turnover_11', 'turnover_12','turnover_13', 'turnover_14', 'turnover_15', 'turnover_16']\ndf6tt = df6st.groupby(['OFFICE'])[turns].sum().reset_index()\ndf6tt.tail()"
        }, 
        {
            "source": "f.ii. New dataframe is shaped long by office and year with staff turnover and total staff as columns", 
            "cell_type": "markdown", 
            "metadata": {}
        }, 
        {
            "execution_count": 207, 
            "cell_type": "code", 
            "metadata": {}, 
            "outputs": [
                {
                    "output_type": "stream", 
                    "name": "stderr", 
                    "text": "/opt/ibm/conda/miniconda3/lib/python3.5/site-packages/ipykernel/__main__.py:5: SettingWithCopyWarning: \nA value is trying to be set on a copy of a slice from a DataFrame.\nTry using .loc[row_indexer,col_indexer] = value instead\n\nSee the caveats in the documentation: http://pandas.pydata.org/pandas-docs/stable/indexing.html#indexing-view-versus-copy\n/opt/ibm/conda/miniconda3/lib/python3.5/site-packages/ipykernel/__main__.py:6: SettingWithCopyWarning: \nA value is trying to be set on a copy of a slice from a DataFrame.\nTry using .loc[row_indexer,col_indexer] = value instead\n\nSee the caveats in the documentation: http://pandas.pydata.org/pandas-docs/stable/indexing.html#indexing-view-versus-copy\n"
                }, 
                {
                    "execution_count": 207, 
                    "metadata": {}, 
                    "data": {
                        "text/html": "<div>\n<style scoped>\n    .dataframe tbody tr th:only-of-type {\n        vertical-align: middle;\n    }\n\n    .dataframe tbody tr th {\n        vertical-align: top;\n    }\n\n    .dataframe thead th {\n        text-align: right;\n    }\n</style>\n<table border=\"1\" class=\"dataframe\">\n  <thead>\n    <tr style=\"text-align: right;\">\n      <th></th>\n      <th>OFFICE</th>\n      <th>START YEAR</th>\n      <th>TURNOVER</th>\n    </tr>\n  </thead>\n  <tbody>\n    <tr>\n      <th>0</th>\n      <td>2014 HON. ANDRE CARSON</td>\n      <td>turnover_16</td>\n      <td>0</td>\n    </tr>\n    <tr>\n      <th>1</th>\n      <td>2014 HON. ROBERT C. \"BOBBY\" SCOTT</td>\n      <td>turnover_16</td>\n      <td>0</td>\n    </tr>\n    <tr>\n      <th>2</th>\n      <td>2014 OTHER ADMINISTRATION</td>\n      <td>turnover_16</td>\n      <td>0</td>\n    </tr>\n    <tr>\n      <th>3</th>\n      <td>2015 HON. KRISTI L. NOEM</td>\n      <td>turnover_16</td>\n      <td>1</td>\n    </tr>\n    <tr>\n      <th>4</th>\n      <td>2015 HON. RENEE L. ELLMERS</td>\n      <td>turnover_16</td>\n      <td>1</td>\n    </tr>\n  </tbody>\n</table>\n</div>", 
                        "text/plain": "                              OFFICE   START YEAR  TURNOVER\n0             2014 HON. ANDRE CARSON  turnover_16         0\n1  2014 HON. ROBERT C. \"BOBBY\" SCOTT  turnover_16         0\n2         2014 OTHER ADMINISTRATION   turnover_16         0\n3           2015 HON. KRISTI L. NOEM  turnover_16         1\n4         2015 HON. RENEE L. ELLMERS  turnover_16         1"
                    }, 
                    "output_type": "execute_result"
                }
            ], 
            "source": "df6ty = pd.DataFrame()\nfor col in df6tt:\n    if col != 'OFFICE':\n        df_new = df6tt[['OFFICE', col]]\n        df_new['START YEAR'] = col\n        df_new['TURNOVER'] = df_new[col]\n        df_new = df_new[['OFFICE', 'START YEAR','TURNOVER']]\n        frames = [df6ty, df_new]\n        df6ty = pd.concat(frames)\ndf_new.head()"
        }, 
        {
            "execution_count": 208, 
            "cell_type": "code", 
            "metadata": {}, 
            "outputs": [
                {
                    "execution_count": 208, 
                    "metadata": {}, 
                    "data": {
                        "text/html": "<div>\n<style scoped>\n    .dataframe tbody tr th:only-of-type {\n        vertical-align: middle;\n    }\n\n    .dataframe tbody tr th {\n        vertical-align: top;\n    }\n\n    .dataframe thead th {\n        text-align: right;\n    }\n</style>\n<table border=\"1\" class=\"dataframe\">\n  <thead>\n    <tr style=\"text-align: right;\">\n      <th></th>\n      <th>OFFICE</th>\n      <th>START YEAR</th>\n      <th>TURNOVER</th>\n    </tr>\n  </thead>\n  <tbody>\n    <tr>\n      <th>912</th>\n      <td>STANDARDS OF OFFICIAL CONDUCT</td>\n      <td>turnover_16</td>\n      <td>0</td>\n    </tr>\n    <tr>\n      <th>913</th>\n      <td>SUMMER CAMP</td>\n      <td>turnover_16</td>\n      <td>5</td>\n    </tr>\n    <tr>\n      <th>914</th>\n      <td>TECHNICAL ASSISTANTS</td>\n      <td>turnover_16</td>\n      <td>0</td>\n    </tr>\n    <tr>\n      <th>915</th>\n      <td>TRANSPORTATION-INFRASTRUCTURE</td>\n      <td>turnover_16</td>\n      <td>27</td>\n    </tr>\n    <tr>\n      <th>916</th>\n      <td>VETERANS' AFFAIRS</td>\n      <td>turnover_16</td>\n      <td>9</td>\n    </tr>\n  </tbody>\n</table>\n</div>", 
                        "text/plain": "                            OFFICE   START YEAR  TURNOVER\n912  STANDARDS OF OFFICIAL CONDUCT  turnover_16         0\n913                    SUMMER CAMP  turnover_16         5\n914           TECHNICAL ASSISTANTS  turnover_16         0\n915  TRANSPORTATION-INFRASTRUCTURE  turnover_16        27\n916              VETERANS' AFFAIRS  turnover_16         9"
                    }, 
                    "output_type": "execute_result"
                }
            ], 
            "source": "df6ty.tail()"
        }, 
        {
            "execution_count": 209, 
            "cell_type": "code", 
            "metadata": {}, 
            "outputs": [], 
            "source": "df6ty.loc[(df6ty['START YEAR'] == 'turnover_10'), 'START YEAR'] = '10'\ndf6ty.loc[(df6ty['START YEAR'] == 'turnover_11'), 'START YEAR'] = '11'\ndf6ty.loc[(df6ty['START YEAR'] == 'turnover_12'), 'START YEAR'] = '12'\ndf6ty.loc[(df6ty['START YEAR'] == 'turnover_13'), 'START YEAR'] = '13'\ndf6ty.loc[(df6ty['START YEAR'] == 'turnover_14'), 'START YEAR'] = '14'\ndf6ty.loc[(df6ty['START YEAR'] == 'turnover_15'), 'START YEAR'] = '15'\ndf6ty.loc[(df6ty['START YEAR'] == 'turnover_16'), 'START YEAR'] = '16'"
        }, 
        {
            "execution_count": 210, 
            "cell_type": "code", 
            "metadata": {}, 
            "outputs": [
                {
                    "execution_count": 210, 
                    "metadata": {}, 
                    "data": {
                        "text/plain": "dtype('O')"
                    }, 
                    "output_type": "execute_result"
                }
            ], 
            "source": "df6ty['START YEAR'].dtype"
        }, 
        {
            "execution_count": 211, 
            "cell_type": "code", 
            "metadata": {}, 
            "outputs": [
                {
                    "execution_count": 211, 
                    "metadata": {}, 
                    "data": {
                        "text/html": "<div>\n<style scoped>\n    .dataframe tbody tr th:only-of-type {\n        vertical-align: middle;\n    }\n\n    .dataframe tbody tr th {\n        vertical-align: top;\n    }\n\n    .dataframe thead th {\n        text-align: right;\n    }\n</style>\n<table border=\"1\" class=\"dataframe\">\n  <thead>\n    <tr style=\"text-align: right;\">\n      <th></th>\n      <th>OFFICE</th>\n      <th>START YEAR</th>\n      <th>TURNOVER</th>\n    </tr>\n  </thead>\n  <tbody>\n    <tr>\n      <th>912</th>\n      <td>STANDARDS OF OFFICIAL CONDUCT</td>\n      <td>16</td>\n      <td>0</td>\n    </tr>\n    <tr>\n      <th>913</th>\n      <td>SUMMER CAMP</td>\n      <td>16</td>\n      <td>5</td>\n    </tr>\n    <tr>\n      <th>914</th>\n      <td>TECHNICAL ASSISTANTS</td>\n      <td>16</td>\n      <td>0</td>\n    </tr>\n    <tr>\n      <th>915</th>\n      <td>TRANSPORTATION-INFRASTRUCTURE</td>\n      <td>16</td>\n      <td>27</td>\n    </tr>\n    <tr>\n      <th>916</th>\n      <td>VETERANS' AFFAIRS</td>\n      <td>16</td>\n      <td>9</td>\n    </tr>\n  </tbody>\n</table>\n</div>", 
                        "text/plain": "                            OFFICE START YEAR  TURNOVER\n912  STANDARDS OF OFFICIAL CONDUCT         16         0\n913                    SUMMER CAMP         16         5\n914           TECHNICAL ASSISTANTS         16         0\n915  TRANSPORTATION-INFRASTRUCTURE         16        27\n916              VETERANS' AFFAIRS         16         9"
                    }, 
                    "output_type": "execute_result"
                }
            ], 
            "source": "df6ty.tail().sort_values(by=\"OFFICE\")"
        }, 
        {
            "source": "f.iii. Dataframe stt54 give staff turnover by year for each office that fits criteria of years served and staff size", 
            "cell_type": "markdown", 
            "metadata": {}
        }, 
        {
            "execution_count": 214, 
            "cell_type": "code", 
            "metadata": {}, 
            "outputs": [], 
            "source": "cols = ['OFFICE', 'START YEAR']\ndf6stt = pd.merge(df6ty, df6ss, on = ['OFFICE', 'START YEAR'], how = 'outer')"
        }, 
        {
            "execution_count": 215, 
            "cell_type": "code", 
            "metadata": {}, 
            "outputs": [
                {
                    "execution_count": 215, 
                    "metadata": {}, 
                    "data": {
                        "text/plain": "6110"
                    }, 
                    "output_type": "execute_result"
                }
            ], 
            "source": "len(df6stt['OFFICE'])"
        }, 
        {
            "execution_count": 216, 
            "cell_type": "code", 
            "metadata": {}, 
            "outputs": [], 
            "source": "df6stt54 = pd.merge(df6stt, df6m54[['OFFICE', 'MEMBER_SCOPE']], on = ['OFFICE'], how = 'left')"
        }, 
        {
            "execution_count": 219, 
            "cell_type": "code", 
            "metadata": {}, 
            "outputs": [
                {
                    "execution_count": 219, 
                    "metadata": {}, 
                    "data": {
                        "text/plain": "6110"
                    }, 
                    "output_type": "execute_result"
                }
            ], 
            "source": "len(df6stt54['OFFICE'])"
        }, 
        {
            "execution_count": 218, 
            "cell_type": "code", 
            "metadata": {}, 
            "outputs": [], 
            "source": "df6stt54 = df6stt54.drop_duplicates()"
        }, 
        {
            "execution_count": 221, 
            "cell_type": "code", 
            "metadata": {}, 
            "outputs": [
                {
                    "execution_count": 221, 
                    "metadata": {}, 
                    "data": {
                        "text/plain": "1    4422\n0    1688\nName: MEMBER_SCOPE, dtype: int64"
                    }, 
                    "output_type": "execute_result"
                }
            ], 
            "source": "df6stt54['MEMBER_SCOPE'].value_counts()"
        }, 
        {
            "execution_count": 222, 
            "cell_type": "code", 
            "metadata": {}, 
            "outputs": [], 
            "source": "mask6f = (df6stt54['MEMBER_SCOPE'] == 1)\ndf6stt54 = df6stt54.loc[mask6f]"
        }, 
        {
            "execution_count": 223, 
            "cell_type": "code", 
            "metadata": {}, 
            "outputs": [
                {
                    "execution_count": 223, 
                    "metadata": {}, 
                    "data": {
                        "text/html": "<div>\n<style scoped>\n    .dataframe tbody tr th:only-of-type {\n        vertical-align: middle;\n    }\n\n    .dataframe tbody tr th {\n        vertical-align: top;\n    }\n\n    .dataframe thead th {\n        text-align: right;\n    }\n</style>\n<table border=\"1\" class=\"dataframe\">\n  <thead>\n    <tr style=\"text-align: right;\">\n      <th></th>\n      <th>OFFICE</th>\n      <th>START YEAR</th>\n      <th>TURNOVER</th>\n      <th>STAFF SIZE</th>\n      <th>MEMBER_SCOPE</th>\n    </tr>\n  </thead>\n  <tbody>\n    <tr>\n      <th>6102</th>\n      <td>REPUBLICAN POLICY COMMITTEE</td>\n      <td>10</td>\n      <td>NaN</td>\n      <td>10.0</td>\n      <td>1</td>\n    </tr>\n    <tr>\n      <th>6105</th>\n      <td>SERGEANT AT ARMS</td>\n      <td>10</td>\n      <td>NaN</td>\n      <td>116.0</td>\n      <td>1</td>\n    </tr>\n    <tr>\n      <th>6107</th>\n      <td>TECHNICAL ASSISTANTS</td>\n      <td>10</td>\n      <td>NaN</td>\n      <td>3.0</td>\n      <td>1</td>\n    </tr>\n    <tr>\n      <th>6108</th>\n      <td>TRANSPORTATION-INFRASTRUCTURE</td>\n      <td>10</td>\n      <td>NaN</td>\n      <td>98.0</td>\n      <td>1</td>\n    </tr>\n    <tr>\n      <th>6109</th>\n      <td>VETERANS' AFFAIRS</td>\n      <td>10</td>\n      <td>NaN</td>\n      <td>40.0</td>\n      <td>1</td>\n    </tr>\n  </tbody>\n</table>\n</div>", 
                        "text/plain": "                             OFFICE START YEAR  TURNOVER  STAFF SIZE  \\\n6102    REPUBLICAN POLICY COMMITTEE         10       NaN        10.0   \n6105               SERGEANT AT ARMS         10       NaN       116.0   \n6107           TECHNICAL ASSISTANTS         10       NaN         3.0   \n6108  TRANSPORTATION-INFRASTRUCTURE         10       NaN        98.0   \n6109              VETERANS' AFFAIRS         10       NaN        40.0   \n\n      MEMBER_SCOPE  \n6102             1  \n6105             1  \n6107             1  \n6108             1  \n6109             1  "
                    }, 
                    "output_type": "execute_result"
                }
            ], 
            "source": "df6stt54.tail()"
        }, 
        {
            "execution_count": 224, 
            "cell_type": "code", 
            "metadata": {}, 
            "outputs": [], 
            "source": "df6stt['TURN RATE'] = df6stt['TURNOVER']/df6stt['STAFF SIZE']"
        }, 
        {
            "execution_count": 225, 
            "cell_type": "code", 
            "metadata": {}, 
            "outputs": [
                {
                    "execution_count": 225, 
                    "metadata": {}, 
                    "data": {
                        "text/plain": "0.21428571428571427"
                    }, 
                    "output_type": "execute_result"
                }
            ], 
            "source": "df6stt['TURN RATE'].median()"
        }
    ], 
    "metadata": {
        "kernelspec": {
            "display_name": "Python 3.5 with Spark", 
            "name": "python3", 
            "language": "python3"
        }, 
        "language_info": {
            "mimetype": "text/x-python", 
            "nbconvert_exporter": "python", 
            "version": "3.5.4", 
            "name": "python", 
            "file_extension": ".py", 
            "pygments_lexer": "ipython3", 
            "codemirror_mode": {
                "version": 3, 
                "name": "ipython"
            }
        }
    }, 
    "nbformat": 4
}